{
 "cells": [
  {
   "cell_type": "markdown",
   "metadata": {},
   "source": [
    "# Hello World! NeMo-Run style!\n",
    "\n",
    "Let's start with a simple notebook that demonstrates how to use the NeMo Run to configure and launch your Python functions. In this example, we will take simple addition functions that look like\n",
    "\n",
    "```python\n",
    "def add(a: int, b: int) -> int:\n",
    "    print(f\"Adding {a} to {b} returns {a + b}\")\n",
    "    return a + b\n",
    "```\n",
    "\n",
    "and use NeMo Run to configure and launch it. This basic notebook should demonstrate a lot of the building blocks of our NeMo Run.\n",
    "\n",
    "As described in the introduction, NeMo Run is a tool that allows you to:\n",
    "1. Configure your functions or scripts in a pythonic way\n",
    "2. Launch them on any supported remote cluster directly from your local workstation\n",
    "3. Manage them using Experiments. \n",
    "\n",
    "Let's get into it.\n"
   ]
  },
  {
   "cell_type": "code",
   "execution_count": 1,
   "metadata": {},
   "outputs": [],
   "source": [
    "# SPDX-FileCopyrightText: Copyright (c) 2024 NVIDIA CORPORATION & AFFILIATES. All rights reserved.\n",
    "# SPDX-License-Identifier: Apache-2.0\n",
    "#\n",
    "# Licensed under the Apache License, Version 2.0 (the \"License\");\n",
    "# you may not use this file except in compliance with the License.\n",
    "# You may obtain a copy of the License at\n",
    "#\n",
    "# http://www.apache.org/licenses/LICENSE-2.0\n",
    "#\n",
    "# Unless required by applicable law or agreed to in writing, software\n",
    "# distributed under the License is distributed on an \"AS IS\" BASIS,\n",
    "# WITHOUT WARRANTIES OR CONDITIONS OF ANY KIND, either express or implied.\n",
    "# See the License for the specific language governing permissions and\n",
    "# limitations under the License.\n",
    "\n",
    "# Set up and imports\n",
    "import logging\n",
    "\n",
    "import nemo_run as run\n",
    "from nemo_run.core.execution import LocalExecutor\n",
    "from simple.add import add\n",
    "\n",
    "logging.basicConfig(level=logging.INFO, format=\"%(asctime)s %(message)s\")\n"
   ]
  },
  {
   "cell_type": "markdown",
   "metadata": {},
   "source": [
    "### 1. Configuration\n",
    "\n",
    "The first step in using NeMo Run is to configure your python function. As mentioned above, we're trying to configure the `add` function. Configuration is similar to python's native [functools.partial](https://docs.python.org/3/library/functools.html#functools.partial). In fact, for most functions you can replace `functools.partial` with `run.Partial` and it should still work. Configuration just ties your function and your arguments together to create an `run.Partial` object which can be shipped around to executed at a later time. This is done by building the `run.Partial` object which will recursively build any configured objects and then return a [`functools.partial` object](https://docs.python.org/3/library/functools.html#partial-objects).\n",
    "\n",
    "This brings us to our first building blocks of NeMo Run - `Partial` and `Config`. These are buildables that allow you to configure functions, arguments and objects in a pythonic way. Under the hood, we use [fiddle](https://fiddle.readthedocs.io/en/latest/) to manage the configuration. In fact, our `Partial` and `Config` subclass `fiddle.Partial` and `fiddle.Config` respectively, with some addons that help with the UX and programmability of your configuration. We take some inspiration from [Praxis](https://github.com/google/praxis/blob/main/praxis/pax_fiddle.py#L72) but also have custom addons that we believe should improve the user experience.\n",
    "\n",
    "We already discussed `run.Partial`. `run.Config` is similar in the sense that it takes a `fn` or `class` as the first argument and the `fn` or `class` `*args` and `**kwargs` as the subsequent arguments. However, on building `run.Config` it actually calls the underlying `fn` or in case of a `class` its `__init__` method with the arguments tied into the `Config`. So for example\n",
    "\n",
    "```python\n",
    "import fiddle as fdl\n",
    "import nemo_run as run\n",
    "def hello_world(msg: str):\n",
    "    print(f\"Hello World! {msg}\")\n",
    "\n",
    "cfg = run.Config(hello_world, msg=\"How are you?\")\n",
    "partial = run.Partial(hello_world, msg=\"How are you?\")\n",
    "\n",
    "fn = fdl.build(partial)\n",
    "fn()\n",
    "#>>> Hello World! How are you?\n",
    "\n",
    "built_cfg = fdl.build(cfg)\n",
    "#>>> Hello World! How are you?\n",
    "\n",
    "print(built_cfg is None)\n",
    "#>>> True\n",
    "```\n",
    "\n",
    "The `Partial` and `Config` classes also come with utilities that provide a visual representation of the object (if you have `graphviz` installed). Try running the cell below to configure the `add` function and visualize the configured `Partial`."
   ]
  },
  {
   "cell_type": "code",
   "execution_count": 2,
   "metadata": {},
   "outputs": [
    {
     "data": {
      "image/svg+xml": [
       "<?xml version=\"1.0\" encoding=\"UTF-8\" standalone=\"no\"?>\n",
       "<!DOCTYPE svg PUBLIC \"-//W3C//DTD SVG 1.1//EN\"\n",
       " \"http://www.w3.org/Graphics/SVG/1.1/DTD/svg11.dtd\">\n",
       "<!-- Generated by graphviz version 2.43.0 (0)\n",
       " -->\n",
       "<!-- Title: %3 Pages: 1 -->\n",
       "<svg width=\"78pt\" height=\"65pt\"\n",
       " viewBox=\"0.00 0.00 78.00 65.00\" xmlns=\"http://www.w3.org/2000/svg\" xmlns:xlink=\"http://www.w3.org/1999/xlink\">\n",
       "<g id=\"graph0\" class=\"graph\" transform=\"scale(1 1) rotate(0) translate(4 61)\">\n",
       "<title>%3</title>\n",
       "<polygon fill=\"white\" stroke=\"transparent\" points=\"-4,4 -4,-61 74,-61 74,4 -4,4\"/>\n",
       "<!-- 0 -->\n",
       "<g id=\"node1\" class=\"node\">\n",
       "<title>0</title>\n",
       "<polygon fill=\"#ffc0cb\" stroke=\"transparent\" points=\"0,-37.5 0,-56.5 70,-56.5 70,-37.5 0,-37.5\"/>\n",
       "<polygon fill=\"none\" stroke=\"black\" stroke-dasharray=\"5,2\" points=\"0,-37.5 0,-56.5 70,-56.5 70,-37.5 0,-37.5\"/>\n",
       "<text text-anchor=\"start\" x=\"4\" y=\"-45.5\" font-family=\"Courier,monospace\" font-size=\"8.00\">Partial:</text>\n",
       "<text text-anchor=\"start\" x=\"41\" y=\"-45.5\" font-family=\"Courier,monospace\" font-size=\"10.00\"> add</text>\n",
       "<polygon fill=\"#eeeeee\" stroke=\"transparent\" stroke-dasharray=\"5,2\" points=\"0,-18.5 0,-37.5 32,-37.5 32,-18.5 0,-18.5\"/>\n",
       "<polygon fill=\"none\" stroke=\"black\" points=\"0,-18.5 0,-37.5 32,-37.5 32,-18.5 0,-18.5\"/>\n",
       "<text text-anchor=\"start\" x=\"21\" y=\"-25.5\" font-family=\"Courier,monospace\" font-size=\"10.00\">a</text>\n",
       "<polygon fill=\"none\" stroke=\"black\" points=\"32,-18.5 32,-37.5 70,-37.5 70,-18.5 32,-18.5\"/>\n",
       "<text text-anchor=\"start\" x=\"36\" y=\"-25.5\" font-family=\"Courier,monospace\" font-size=\"10.00\">5</text>\n",
       "<polygon fill=\"#eeeeee\" stroke=\"transparent\" points=\"0,0.5 0,-18.5 32,-18.5 32,0.5 0,0.5\"/>\n",
       "<polygon fill=\"none\" stroke=\"black\" points=\"0,0.5 0,-18.5 32,-18.5 32,0.5 0,0.5\"/>\n",
       "<text text-anchor=\"start\" x=\"21\" y=\"-6.5\" font-family=\"Courier,monospace\" font-size=\"10.00\">b</text>\n",
       "<polygon fill=\"none\" stroke=\"black\" points=\"32,0.5 32,-18.5 70,-18.5 70,0.5 32,0.5\"/>\n",
       "<text text-anchor=\"start\" x=\"36\" y=\"-6.5\" font-family=\"Courier,monospace\" font-size=\"10.00\">10</text>\n",
       "</g>\n",
       "</g>\n",
       "</svg>\n"
      ],
      "text/plain": [
       "<Partial[add(a=5, b=10)]>"
      ]
     },
     "execution_count": 2,
     "metadata": {},
     "output_type": "execute_result"
    }
   ],
   "source": [
    "fn = run.Partial(add, a=5, b=10)\n",
    "fn"
   ]
  },
  {
   "cell_type": "markdown",
   "metadata": {},
   "source": [
    "The configured function is now ready for execution. But before we go into execution, let's look at configuring complex functions that take in non-primitive types. Along with it, we will also look at another utility that NeMo Run provides - `run.autoconvert`. `run.autoconvert` is a decorator that allows you to automatically convert functions returning regular Python objects to functions that return a `run.Config` of the underlying object. To demonstrate this, let's consider an `add_object` function that looks like \n",
    "\n",
    "```python\n",
    "@dataclass\n",
    "class SomeObject:\n",
    "    value_1: int\n",
    "    value_2: int\n",
    "    value_3: int\n",
    "\n",
    "\n",
    "def add_object(obj_1: SomeObject, obj_2: SomeObject) -> SomeObject:\n",
    "    result = SomeObject(\n",
    "        value_1=obj_1.value_1 + obj_2.value_1,\n",
    "        value_2=obj_1.value_2 + obj_2.value_2,\n",
    "        value_3=obj_1.value_3 + obj_2.value_3,\n",
    "    )\n",
    "    print(f\"{result = }\")\n",
    "\n",
    "    return result\n",
    "```\n",
    "\n",
    "To configure this function, you can use `run.Partial`. Note however that you will need to ensure that the arguments to the function are `run.Config` or `run.Partial` instances as well. This is necessary for serialization and remote execution, but more on that later. For now, a basic configuration for `add_object` looks like\n",
    "\n",
    "```python\n",
    "run.Partial(\n",
    "    add_object,\n",
    "    obj_1=run.Config(SomeObject, value_1=10, value_2=20, value_3=30),\n",
    "    obj_2=run.Config(SomeObject, value_1=10, value_2=20, value_3=30),\n",
    ")\n",
    "```\n",
    "\n",
    "Now, let's say you have a regular python function that returns `SomeObject` and you want to use it as one of the arguments to `add_object`. You can decorate it using `run.autoconvert` as follows:\n",
    "```python\n",
    "@run.autoconvert\n",
    "def commonly_used_object() -> SomeObject:\n",
    "    return SomeObject(\n",
    "        value_1=5,\n",
    "        value_2=10,\n",
    "        value_3=15,\n",
    "    )\n",
    "```\n",
    "\n",
    "The `run.autoconvert` decorator uses fiddle's autoconfig and parses the AST so that you get the following:\n",
    "\n",
    "```python\n",
    "commonly_used_object() == run.Config(SomeObject, value_1=5, value_2=10, value_3=15)\n",
    "```\n",
    "\n",
    "\n",
    "You can then use the decorated function as follows:\n",
    "```python\n",
    "run.Partial(\n",
    "    add_object,\n",
    "    obj_1=run.Config(SomeObject, value_1=10, value_2=20, value_3=30),\n",
    "    obj_2=commonly_used_object(),\n",
    ")\n",
    "```\n",
    "\n",
    "Additionally, you can also use args in the function. Note however that `run.autoconvert` currently doesn't support control flow and may be unreliable for complex code. In that case, you can define a function to return the `run.Config` directly, as follows:\n",
    "\n",
    "```python\n",
    "def commonly_used_config() -> run.Config[SomeObject]:\n",
    "    config = run.Config(\n",
    "        SomeObject,\n",
    "        value_1=5,\n",
    "        value_2=10,\n",
    "        value_3=15,\n",
    "    )\n",
    "\n",
    "    for i in range(10):\n",
    "        config.value_1 *= i\n",
    "        config.value_2 += i\n",
    "        config.value_3 -= i\n",
    "\n",
    "    return config\n",
    "```\n",
    "\n",
    "> 📝 `autoconvert` returns a `run.Config` of the underlying object by default whereas `@autoconvert(partial=True)` returns a `run.Partial` of the underlying object\n",
    "\n",
    "One additional thing is that the arguments of a `run.Partial` or `run.Config` can be mutated via dot access, as shown below:\n",
    "```python\n",
    "fn.obj_1.value_1 = 100\n",
    "fn.obj_2.value_2 *= 2\n",
    "...\n",
    "```\n",
    "\n",
    "As you can see, our tool is designed to provide a lot of flexibility. Run the below cells to experiment with these APIs. Run the cells below to learn about the different ways to configure your task/function."
   ]
  },
  {
   "cell_type": "code",
   "execution_count": 3,
   "metadata": {},
   "outputs": [
    {
     "data": {
      "image/svg+xml": [
       "<?xml version=\"1.0\" encoding=\"UTF-8\" standalone=\"no\"?>\n",
       "<!DOCTYPE svg PUBLIC \"-//W3C//DTD SVG 1.1//EN\"\n",
       " \"http://www.w3.org/Graphics/SVG/1.1/DTD/svg11.dtd\">\n",
       "<!-- Generated by graphviz version 2.43.0 (0)\n",
       " -->\n",
       "<!-- Title: %3 Pages: 1 -->\n",
       "<svg width=\"240pt\" height=\"177pt\"\n",
       " viewBox=\"0.00 0.00 240.00 177.00\" xmlns=\"http://www.w3.org/2000/svg\" xmlns:xlink=\"http://www.w3.org/1999/xlink\">\n",
       "<g id=\"graph0\" class=\"graph\" transform=\"scale(1 1) rotate(0) translate(4 173)\">\n",
       "<title>%3</title>\n",
       "<polygon fill=\"white\" stroke=\"transparent\" points=\"-4,4 -4,-173 236,-173 236,4 -4,4\"/>\n",
       "<!-- 1 -->\n",
       "<g id=\"node1\" class=\"node\">\n",
       "<title>1</title>\n",
       "<polygon fill=\"#90ee90\" stroke=\"transparent\" points=\"0.5,-57 0.5,-76 107.5,-76 107.5,-57 0.5,-57\"/>\n",
       "<polygon fill=\"none\" stroke=\"black\" points=\"0.5,-57 0.5,-76 107.5,-76 107.5,-57 0.5,-57\"/>\n",
       "<text text-anchor=\"start\" x=\"4.5\" y=\"-65\" font-family=\"Courier,monospace\" font-size=\"8.00\">Config:</text>\n",
       "<text text-anchor=\"start\" x=\"36.5\" y=\"-65\" font-family=\"Courier,monospace\" font-size=\"10.00\"> SomeObject</text>\n",
       "<polygon fill=\"#eeeeee\" stroke=\"transparent\" points=\"0.5,-38 0.5,-57 68.5,-57 68.5,-38 0.5,-38\"/>\n",
       "<polygon fill=\"none\" stroke=\"black\" points=\"0.5,-38 0.5,-57 68.5,-57 68.5,-38 0.5,-38\"/>\n",
       "<text text-anchor=\"start\" x=\"21.5\" y=\"-45\" font-family=\"Courier,monospace\" font-size=\"10.00\">value_1</text>\n",
       "<polygon fill=\"none\" stroke=\"black\" points=\"68.5,-38 68.5,-57 107.5,-57 107.5,-38 68.5,-38\"/>\n",
       "<text text-anchor=\"start\" x=\"72.5\" y=\"-45\" font-family=\"Courier,monospace\" font-size=\"10.00\">10</text>\n",
       "<polygon fill=\"#eeeeee\" stroke=\"transparent\" points=\"0.5,-19 0.5,-38 68.5,-38 68.5,-19 0.5,-19\"/>\n",
       "<polygon fill=\"none\" stroke=\"black\" points=\"0.5,-19 0.5,-38 68.5,-38 68.5,-19 0.5,-19\"/>\n",
       "<text text-anchor=\"start\" x=\"21.5\" y=\"-26\" font-family=\"Courier,monospace\" font-size=\"10.00\">value_2</text>\n",
       "<polygon fill=\"none\" stroke=\"black\" points=\"68.5,-19 68.5,-38 107.5,-38 107.5,-19 68.5,-19\"/>\n",
       "<text text-anchor=\"start\" x=\"72.5\" y=\"-26\" font-family=\"Courier,monospace\" font-size=\"10.00\">20</text>\n",
       "<polygon fill=\"#eeeeee\" stroke=\"transparent\" points=\"0.5,0 0.5,-19 68.5,-19 68.5,0 0.5,0\"/>\n",
       "<polygon fill=\"none\" stroke=\"black\" points=\"0.5,0 0.5,-19 68.5,-19 68.5,0 0.5,0\"/>\n",
       "<text text-anchor=\"start\" x=\"21.5\" y=\"-7\" font-family=\"Courier,monospace\" font-size=\"10.00\">value_3</text>\n",
       "<polygon fill=\"none\" stroke=\"black\" points=\"68.5,0 68.5,-19 107.5,-19 107.5,0 68.5,0\"/>\n",
       "<text text-anchor=\"start\" x=\"72.5\" y=\"-7\" font-family=\"Courier,monospace\" font-size=\"10.00\">30</text>\n",
       "</g>\n",
       "<!-- 0 -->\n",
       "<g id=\"node2\" class=\"node\">\n",
       "<title>0</title>\n",
       "<polygon fill=\"#ffc0cb\" stroke=\"transparent\" points=\"25.5,-149.5 25.5,-168.5 137.5,-168.5 137.5,-149.5 25.5,-149.5\"/>\n",
       "<polygon fill=\"none\" stroke=\"black\" stroke-dasharray=\"5,2\" points=\"25.5,-149.5 25.5,-168.5 137.5,-168.5 137.5,-149.5 25.5,-149.5\"/>\n",
       "<text text-anchor=\"start\" x=\"29.5\" y=\"-157.5\" font-family=\"Courier,monospace\" font-size=\"8.00\">Partial:</text>\n",
       "<text text-anchor=\"start\" x=\"66.5\" y=\"-157.5\" font-family=\"Courier,monospace\" font-size=\"10.00\"> add_object</text>\n",
       "<polygon fill=\"#eeeeee\" stroke=\"transparent\" stroke-dasharray=\"5,2\" points=\"25.5,-130.5 25.5,-149.5 92.5,-149.5 92.5,-130.5 25.5,-130.5\"/>\n",
       "<polygon fill=\"none\" stroke=\"black\" points=\"25.5,-130.5 25.5,-149.5 92.5,-149.5 92.5,-130.5 25.5,-130.5\"/>\n",
       "<text text-anchor=\"start\" x=\"57.5\" y=\"-137.5\" font-family=\"Courier,monospace\" font-size=\"10.00\">obj_1</text>\n",
       "<polygon fill=\"none\" stroke=\"black\" points=\"92.5,-130.5 92.5,-149.5 137.5,-149.5 137.5,-130.5 92.5,-130.5\"/>\n",
       "<polygon fill=\"#90ee90\" stroke=\"transparent\" points=\"96.5,-134.5 96.5,-145.5 133.5,-145.5 133.5,-134.5 96.5,-134.5\"/>\n",
       "<polygon fill=\"none\" stroke=\"black\" points=\"96.5,-134.5 96.5,-145.5 133.5,-145.5 133.5,-134.5 96.5,-134.5\"/>\n",
       "<polygon fill=\"#eeeeee\" stroke=\"transparent\" points=\"25.5,-111.5 25.5,-130.5 92.5,-130.5 92.5,-111.5 25.5,-111.5\"/>\n",
       "<polygon fill=\"none\" stroke=\"black\" points=\"25.5,-111.5 25.5,-130.5 92.5,-130.5 92.5,-111.5 25.5,-111.5\"/>\n",
       "<text text-anchor=\"start\" x=\"57.5\" y=\"-118.5\" font-family=\"Courier,monospace\" font-size=\"10.00\">obj_2</text>\n",
       "<polygon fill=\"none\" stroke=\"black\" points=\"92.5,-111.5 92.5,-130.5 137.5,-130.5 137.5,-111.5 92.5,-111.5\"/>\n",
       "<polygon fill=\"#fff8dc\" stroke=\"transparent\" points=\"96.5,-115.5 96.5,-126.5 133.5,-126.5 133.5,-115.5 96.5,-115.5\"/>\n",
       "<polygon fill=\"none\" stroke=\"black\" points=\"96.5,-115.5 96.5,-126.5 133.5,-126.5 133.5,-115.5 96.5,-115.5\"/>\n",
       "</g>\n",
       "<!-- 0&#45;&#45;1 -->\n",
       "<g id=\"edge1\" class=\"edge\">\n",
       "<title>0:c&#45;&#45;1:c</title>\n",
       "<path fill=\"none\" stroke=\"#73be73\" stroke-width=\"3\" stroke-opacity=\"0.501961\" d=\"M112.84,-134.22C106.62,-124.26 90.66,-98.63 76.85,-76.47\"/>\n",
       "</g>\n",
       "<!-- 2 -->\n",
       "<g id=\"node3\" class=\"node\">\n",
       "<title>2</title>\n",
       "<polygon fill=\"#fff8dc\" stroke=\"transparent\" points=\"125.5,-57 125.5,-76 232.5,-76 232.5,-57 125.5,-57\"/>\n",
       "<polygon fill=\"none\" stroke=\"black\" points=\"125.5,-57 125.5,-76 232.5,-76 232.5,-57 125.5,-57\"/>\n",
       "<text text-anchor=\"start\" x=\"129.5\" y=\"-65\" font-family=\"Courier,monospace\" font-size=\"8.00\">Config:</text>\n",
       "<text text-anchor=\"start\" x=\"161.5\" y=\"-65\" font-family=\"Courier,monospace\" font-size=\"10.00\"> SomeObject</text>\n",
       "<polygon fill=\"#eeeeee\" stroke=\"transparent\" points=\"125.5,-38 125.5,-57 193.5,-57 193.5,-38 125.5,-38\"/>\n",
       "<polygon fill=\"none\" stroke=\"black\" points=\"125.5,-38 125.5,-57 193.5,-57 193.5,-38 125.5,-38\"/>\n",
       "<text text-anchor=\"start\" x=\"146.5\" y=\"-45\" font-family=\"Courier,monospace\" font-size=\"10.00\">value_1</text>\n",
       "<polygon fill=\"none\" stroke=\"black\" points=\"193.5,-38 193.5,-57 232.5,-57 232.5,-38 193.5,-38\"/>\n",
       "<text text-anchor=\"start\" x=\"197.5\" y=\"-45\" font-family=\"Courier,monospace\" font-size=\"10.00\">10</text>\n",
       "<polygon fill=\"#eeeeee\" stroke=\"transparent\" points=\"125.5,-19 125.5,-38 193.5,-38 193.5,-19 125.5,-19\"/>\n",
       "<polygon fill=\"none\" stroke=\"black\" points=\"125.5,-19 125.5,-38 193.5,-38 193.5,-19 125.5,-19\"/>\n",
       "<text text-anchor=\"start\" x=\"146.5\" y=\"-26\" font-family=\"Courier,monospace\" font-size=\"10.00\">value_2</text>\n",
       "<polygon fill=\"none\" stroke=\"black\" points=\"193.5,-19 193.5,-38 232.5,-38 232.5,-19 193.5,-19\"/>\n",
       "<text text-anchor=\"start\" x=\"197.5\" y=\"-26\" font-family=\"Courier,monospace\" font-size=\"10.00\">20</text>\n",
       "<polygon fill=\"#eeeeee\" stroke=\"transparent\" points=\"125.5,0 125.5,-19 193.5,-19 193.5,0 125.5,0\"/>\n",
       "<polygon fill=\"none\" stroke=\"black\" points=\"125.5,0 125.5,-19 193.5,-19 193.5,0 125.5,0\"/>\n",
       "<text text-anchor=\"start\" x=\"146.5\" y=\"-7\" font-family=\"Courier,monospace\" font-size=\"10.00\">value_3</text>\n",
       "<polygon fill=\"none\" stroke=\"black\" points=\"193.5,0 193.5,-19 232.5,-19 232.5,0 193.5,0\"/>\n",
       "<text text-anchor=\"start\" x=\"197.5\" y=\"-7\" font-family=\"Courier,monospace\" font-size=\"10.00\">30</text>\n",
       "</g>\n",
       "<!-- 0&#45;&#45;2 -->\n",
       "<g id=\"edge2\" class=\"edge\">\n",
       "<title>0:c&#45;&#45;2:c</title>\n",
       "<path fill=\"none\" stroke=\"#cbc6b0\" stroke-width=\"3\" stroke-opacity=\"0.501961\" d=\"M118.89,-115.17C124.77,-107.66 137.39,-91.53 149.52,-76.03\"/>\n",
       "</g>\n",
       "</g>\n",
       "</svg>\n"
      ],
      "text/plain": [
       "<Partial[add_object(\n",
       "  obj_1=<Config[SomeObject(value_1=10, value_2=20, value_3=30)]>,\n",
       "  obj_2=<Config[SomeObject(value_1=10, value_2=20, value_3=30)]>)]>"
      ]
     },
     "execution_count": 3,
     "metadata": {},
     "output_type": "execute_result"
    }
   ],
   "source": [
    "from simple.add import add_object, commonly_used_object, commonly_used_object_2, SomeObject\n",
    "\n",
    "fn = run.Partial(\n",
    "    add_object,\n",
    "    obj_1=run.Config(SomeObject, value_1=10, value_2=20, value_3=30),\n",
    "    obj_2=run.Config(SomeObject, value_1=10, value_2=20, value_3=30),\n",
    ")\n",
    "fn"
   ]
  },
  {
   "cell_type": "code",
   "execution_count": 4,
   "metadata": {},
   "outputs": [
    {
     "data": {
      "image/svg+xml": [
       "<?xml version=\"1.0\" encoding=\"UTF-8\" standalone=\"no\"?>\n",
       "<!DOCTYPE svg PUBLIC \"-//W3C//DTD SVG 1.1//EN\"\n",
       " \"http://www.w3.org/Graphics/SVG/1.1/DTD/svg11.dtd\">\n",
       "<!-- Generated by graphviz version 2.43.0 (0)\n",
       " -->\n",
       "<!-- Title: %3 Pages: 1 -->\n",
       "<svg width=\"240pt\" height=\"177pt\"\n",
       " viewBox=\"0.00 0.00 240.00 177.00\" xmlns=\"http://www.w3.org/2000/svg\" xmlns:xlink=\"http://www.w3.org/1999/xlink\">\n",
       "<g id=\"graph0\" class=\"graph\" transform=\"scale(1 1) rotate(0) translate(4 173)\">\n",
       "<title>%3</title>\n",
       "<polygon fill=\"white\" stroke=\"transparent\" points=\"-4,4 -4,-173 236,-173 236,4 -4,4\"/>\n",
       "<!-- 1 -->\n",
       "<g id=\"node1\" class=\"node\">\n",
       "<title>1</title>\n",
       "<polygon fill=\"#90ee90\" stroke=\"transparent\" points=\"0.5,-57 0.5,-76 107.5,-76 107.5,-57 0.5,-57\"/>\n",
       "<polygon fill=\"none\" stroke=\"black\" points=\"0.5,-57 0.5,-76 107.5,-76 107.5,-57 0.5,-57\"/>\n",
       "<text text-anchor=\"start\" x=\"4.5\" y=\"-65\" font-family=\"Courier,monospace\" font-size=\"8.00\">Config:</text>\n",
       "<text text-anchor=\"start\" x=\"36.5\" y=\"-65\" font-family=\"Courier,monospace\" font-size=\"10.00\"> SomeObject</text>\n",
       "<polygon fill=\"#eeeeee\" stroke=\"transparent\" points=\"0.5,-38 0.5,-57 65.5,-57 65.5,-38 0.5,-38\"/>\n",
       "<polygon fill=\"none\" stroke=\"black\" points=\"0.5,-38 0.5,-57 65.5,-57 65.5,-38 0.5,-38\"/>\n",
       "<text text-anchor=\"start\" x=\"18.5\" y=\"-45\" font-family=\"Courier,monospace\" font-size=\"10.00\">value_1</text>\n",
       "<polygon fill=\"none\" stroke=\"black\" points=\"65.5,-38 65.5,-57 107.5,-57 107.5,-38 65.5,-38\"/>\n",
       "<text text-anchor=\"start\" x=\"69.5\" y=\"-45\" font-family=\"Courier,monospace\" font-size=\"10.00\">100</text>\n",
       "<polygon fill=\"#eeeeee\" stroke=\"transparent\" points=\"0.5,-19 0.5,-38 65.5,-38 65.5,-19 0.5,-19\"/>\n",
       "<polygon fill=\"none\" stroke=\"black\" points=\"0.5,-19 0.5,-38 65.5,-38 65.5,-19 0.5,-19\"/>\n",
       "<text text-anchor=\"start\" x=\"18.5\" y=\"-26\" font-family=\"Courier,monospace\" font-size=\"10.00\">value_2</text>\n",
       "<polygon fill=\"none\" stroke=\"black\" points=\"65.5,-19 65.5,-38 107.5,-38 107.5,-19 65.5,-19\"/>\n",
       "<text text-anchor=\"start\" x=\"69.5\" y=\"-26\" font-family=\"Courier,monospace\" font-size=\"10.00\">10</text>\n",
       "<polygon fill=\"#eeeeee\" stroke=\"transparent\" points=\"0.5,0 0.5,-19 65.5,-19 65.5,0 0.5,0\"/>\n",
       "<polygon fill=\"none\" stroke=\"black\" points=\"0.5,0 0.5,-19 65.5,-19 65.5,0 0.5,0\"/>\n",
       "<text text-anchor=\"start\" x=\"18.5\" y=\"-7\" font-family=\"Courier,monospace\" font-size=\"10.00\">value_3</text>\n",
       "<polygon fill=\"none\" stroke=\"black\" points=\"65.5,0 65.5,-19 107.5,-19 107.5,0 65.5,0\"/>\n",
       "<text text-anchor=\"start\" x=\"69.5\" y=\"-7\" font-family=\"Courier,monospace\" font-size=\"10.00\">15</text>\n",
       "</g>\n",
       "<!-- 0 -->\n",
       "<g id=\"node2\" class=\"node\">\n",
       "<title>0</title>\n",
       "<polygon fill=\"#ffc0cb\" stroke=\"transparent\" points=\"25.5,-149.5 25.5,-168.5 137.5,-168.5 137.5,-149.5 25.5,-149.5\"/>\n",
       "<polygon fill=\"none\" stroke=\"black\" stroke-dasharray=\"5,2\" points=\"25.5,-149.5 25.5,-168.5 137.5,-168.5 137.5,-149.5 25.5,-149.5\"/>\n",
       "<text text-anchor=\"start\" x=\"29.5\" y=\"-157.5\" font-family=\"Courier,monospace\" font-size=\"8.00\">Partial:</text>\n",
       "<text text-anchor=\"start\" x=\"66.5\" y=\"-157.5\" font-family=\"Courier,monospace\" font-size=\"10.00\"> add_object</text>\n",
       "<polygon fill=\"#eeeeee\" stroke=\"transparent\" stroke-dasharray=\"5,2\" points=\"25.5,-130.5 25.5,-149.5 92.5,-149.5 92.5,-130.5 25.5,-130.5\"/>\n",
       "<polygon fill=\"none\" stroke=\"black\" points=\"25.5,-130.5 25.5,-149.5 92.5,-149.5 92.5,-130.5 25.5,-130.5\"/>\n",
       "<text text-anchor=\"start\" x=\"57.5\" y=\"-137.5\" font-family=\"Courier,monospace\" font-size=\"10.00\">obj_1</text>\n",
       "<polygon fill=\"none\" stroke=\"black\" points=\"92.5,-130.5 92.5,-149.5 137.5,-149.5 137.5,-130.5 92.5,-130.5\"/>\n",
       "<polygon fill=\"#90ee90\" stroke=\"transparent\" points=\"96.5,-134.5 96.5,-145.5 133.5,-145.5 133.5,-134.5 96.5,-134.5\"/>\n",
       "<polygon fill=\"none\" stroke=\"black\" points=\"96.5,-134.5 96.5,-145.5 133.5,-145.5 133.5,-134.5 96.5,-134.5\"/>\n",
       "<polygon fill=\"#eeeeee\" stroke=\"transparent\" points=\"25.5,-111.5 25.5,-130.5 92.5,-130.5 92.5,-111.5 25.5,-111.5\"/>\n",
       "<polygon fill=\"none\" stroke=\"black\" points=\"25.5,-111.5 25.5,-130.5 92.5,-130.5 92.5,-111.5 25.5,-111.5\"/>\n",
       "<text text-anchor=\"start\" x=\"57.5\" y=\"-118.5\" font-family=\"Courier,monospace\" font-size=\"10.00\">obj_2</text>\n",
       "<polygon fill=\"none\" stroke=\"black\" points=\"92.5,-111.5 92.5,-130.5 137.5,-130.5 137.5,-111.5 92.5,-111.5\"/>\n",
       "<polygon fill=\"#fff8dc\" stroke=\"transparent\" points=\"96.5,-115.5 96.5,-126.5 133.5,-126.5 133.5,-115.5 96.5,-115.5\"/>\n",
       "<polygon fill=\"none\" stroke=\"black\" points=\"96.5,-115.5 96.5,-126.5 133.5,-126.5 133.5,-115.5 96.5,-115.5\"/>\n",
       "</g>\n",
       "<!-- 0&#45;&#45;1 -->\n",
       "<g id=\"edge1\" class=\"edge\">\n",
       "<title>0:c&#45;&#45;1:c</title>\n",
       "<path fill=\"none\" stroke=\"#73be73\" stroke-width=\"3\" stroke-opacity=\"0.501961\" d=\"M112.84,-134.22C106.62,-124.26 90.66,-98.63 76.85,-76.47\"/>\n",
       "</g>\n",
       "<!-- 2 -->\n",
       "<g id=\"node3\" class=\"node\">\n",
       "<title>2</title>\n",
       "<polygon fill=\"#fff8dc\" stroke=\"transparent\" points=\"125.5,-57 125.5,-76 232.5,-76 232.5,-57 125.5,-57\"/>\n",
       "<polygon fill=\"none\" stroke=\"black\" points=\"125.5,-57 125.5,-76 232.5,-76 232.5,-57 125.5,-57\"/>\n",
       "<text text-anchor=\"start\" x=\"129.5\" y=\"-65\" font-family=\"Courier,monospace\" font-size=\"8.00\">Config:</text>\n",
       "<text text-anchor=\"start\" x=\"161.5\" y=\"-65\" font-family=\"Courier,monospace\" font-size=\"10.00\"> SomeObject</text>\n",
       "<polygon fill=\"#eeeeee\" stroke=\"transparent\" points=\"125.5,-38 125.5,-57 187.5,-57 187.5,-38 125.5,-38\"/>\n",
       "<polygon fill=\"none\" stroke=\"black\" points=\"125.5,-38 125.5,-57 187.5,-57 187.5,-38 125.5,-38\"/>\n",
       "<text text-anchor=\"start\" x=\"140.5\" y=\"-45\" font-family=\"Courier,monospace\" font-size=\"10.00\">value_1</text>\n",
       "<polygon fill=\"none\" stroke=\"black\" points=\"187.5,-38 187.5,-57 232.5,-57 232.5,-38 187.5,-38\"/>\n",
       "<text text-anchor=\"start\" x=\"191.5\" y=\"-45\" font-family=\"Courier,monospace\" font-size=\"10.00\">500</text>\n",
       "<polygon fill=\"#eeeeee\" stroke=\"transparent\" points=\"125.5,-19 125.5,-38 187.5,-38 187.5,-19 125.5,-19\"/>\n",
       "<polygon fill=\"none\" stroke=\"black\" points=\"125.5,-19 125.5,-38 187.5,-38 187.5,-19 125.5,-19\"/>\n",
       "<text text-anchor=\"start\" x=\"140.5\" y=\"-26\" font-family=\"Courier,monospace\" font-size=\"10.00\">value_2</text>\n",
       "<polygon fill=\"none\" stroke=\"black\" points=\"187.5,-19 187.5,-38 232.5,-38 232.5,-19 187.5,-19\"/>\n",
       "<text text-anchor=\"start\" x=\"191.5\" y=\"-26\" font-family=\"Courier,monospace\" font-size=\"10.00\">1000</text>\n",
       "<polygon fill=\"#eeeeee\" stroke=\"transparent\" points=\"125.5,0 125.5,-19 187.5,-19 187.5,0 125.5,0\"/>\n",
       "<polygon fill=\"none\" stroke=\"black\" points=\"125.5,0 125.5,-19 187.5,-19 187.5,0 125.5,0\"/>\n",
       "<text text-anchor=\"start\" x=\"140.5\" y=\"-7\" font-family=\"Courier,monospace\" font-size=\"10.00\">value_3</text>\n",
       "<polygon fill=\"none\" stroke=\"black\" points=\"187.5,0 187.5,-19 232.5,-19 232.5,0 187.5,0\"/>\n",
       "<text text-anchor=\"start\" x=\"191.5\" y=\"-7\" font-family=\"Courier,monospace\" font-size=\"10.00\">1500</text>\n",
       "</g>\n",
       "<!-- 0&#45;&#45;2 -->\n",
       "<g id=\"edge2\" class=\"edge\">\n",
       "<title>0:c&#45;&#45;2:c</title>\n",
       "<path fill=\"none\" stroke=\"#cbc6b0\" stroke-width=\"3\" stroke-opacity=\"0.501961\" d=\"M118.89,-115.17C124.77,-107.66 137.39,-91.53 149.52,-76.03\"/>\n",
       "</g>\n",
       "</g>\n",
       "</svg>\n"
      ],
      "text/plain": [
       "<Partial[add_object(\n",
       "  obj_1=<Config[SomeObject(value_1=100, value_2=10, value_3=15)]>,\n",
       "  obj_2=<Config[SomeObject(value_1=500, value_2=1000, value_3=1500)]>)]>"
      ]
     },
     "execution_count": 4,
     "metadata": {},
     "output_type": "execute_result"
    }
   ],
   "source": [
    "fn = run.Partial(add_object, obj_1=commonly_used_object(), obj_2=commonly_used_object_2())\n",
    "fn.obj_1.value_1 = 100\n",
    "fn"
   ]
  },
  {
   "cell_type": "code",
   "execution_count": 5,
   "metadata": {},
   "outputs": [
    {
     "data": {
      "image/svg+xml": [
       "<?xml version=\"1.0\" encoding=\"UTF-8\" standalone=\"no\"?>\n",
       "<!DOCTYPE svg PUBLIC \"-//W3C//DTD SVG 1.1//EN\"\n",
       " \"http://www.w3.org/Graphics/SVG/1.1/DTD/svg11.dtd\">\n",
       "<!-- Generated by graphviz version 2.43.0 (0)\n",
       " -->\n",
       "<!-- Title: %3 Pages: 1 -->\n",
       "<svg width=\"240pt\" height=\"177pt\"\n",
       " viewBox=\"0.00 0.00 240.00 177.00\" xmlns=\"http://www.w3.org/2000/svg\" xmlns:xlink=\"http://www.w3.org/1999/xlink\">\n",
       "<g id=\"graph0\" class=\"graph\" transform=\"scale(1 1) rotate(0) translate(4 173)\">\n",
       "<title>%3</title>\n",
       "<polygon fill=\"white\" stroke=\"transparent\" points=\"-4,4 -4,-173 236,-173 236,4 -4,4\"/>\n",
       "<!-- 1 -->\n",
       "<g id=\"node1\" class=\"node\">\n",
       "<title>1</title>\n",
       "<polygon fill=\"#90ee90\" stroke=\"transparent\" points=\"0.5,-57 0.5,-76 107.5,-76 107.5,-57 0.5,-57\"/>\n",
       "<polygon fill=\"none\" stroke=\"black\" points=\"0.5,-57 0.5,-76 107.5,-76 107.5,-57 0.5,-57\"/>\n",
       "<text text-anchor=\"start\" x=\"4.5\" y=\"-65\" font-family=\"Courier,monospace\" font-size=\"8.00\">Config:</text>\n",
       "<text text-anchor=\"start\" x=\"36.5\" y=\"-65\" font-family=\"Courier,monospace\" font-size=\"10.00\"> SomeObject</text>\n",
       "<polygon fill=\"#eeeeee\" stroke=\"transparent\" points=\"0.5,-38 0.5,-57 68.5,-57 68.5,-38 0.5,-38\"/>\n",
       "<polygon fill=\"none\" stroke=\"black\" points=\"0.5,-38 0.5,-57 68.5,-57 68.5,-38 0.5,-38\"/>\n",
       "<text text-anchor=\"start\" x=\"21.5\" y=\"-45\" font-family=\"Courier,monospace\" font-size=\"10.00\">value_1</text>\n",
       "<polygon fill=\"none\" stroke=\"black\" points=\"68.5,-38 68.5,-57 107.5,-57 107.5,-38 68.5,-38\"/>\n",
       "<text text-anchor=\"start\" x=\"72.5\" y=\"-45\" font-family=\"Courier,monospace\" font-size=\"10.00\">5</text>\n",
       "<polygon fill=\"#eeeeee\" stroke=\"transparent\" points=\"0.5,-19 0.5,-38 68.5,-38 68.5,-19 0.5,-19\"/>\n",
       "<polygon fill=\"none\" stroke=\"black\" points=\"0.5,-19 0.5,-38 68.5,-38 68.5,-19 0.5,-19\"/>\n",
       "<text text-anchor=\"start\" x=\"21.5\" y=\"-26\" font-family=\"Courier,monospace\" font-size=\"10.00\">value_2</text>\n",
       "<polygon fill=\"none\" stroke=\"black\" points=\"68.5,-19 68.5,-38 107.5,-38 107.5,-19 68.5,-19\"/>\n",
       "<text text-anchor=\"start\" x=\"72.5\" y=\"-26\" font-family=\"Courier,monospace\" font-size=\"10.00\">10</text>\n",
       "<polygon fill=\"#eeeeee\" stroke=\"transparent\" points=\"0.5,0 0.5,-19 68.5,-19 68.5,0 0.5,0\"/>\n",
       "<polygon fill=\"none\" stroke=\"black\" points=\"0.5,0 0.5,-19 68.5,-19 68.5,0 0.5,0\"/>\n",
       "<text text-anchor=\"start\" x=\"21.5\" y=\"-7\" font-family=\"Courier,monospace\" font-size=\"10.00\">value_3</text>\n",
       "<polygon fill=\"none\" stroke=\"black\" points=\"68.5,0 68.5,-19 107.5,-19 107.5,0 68.5,0\"/>\n",
       "<text text-anchor=\"start\" x=\"72.5\" y=\"-7\" font-family=\"Courier,monospace\" font-size=\"10.00\">15</text>\n",
       "</g>\n",
       "<!-- 0 -->\n",
       "<g id=\"node2\" class=\"node\">\n",
       "<title>0</title>\n",
       "<polygon fill=\"#ffc0cb\" stroke=\"transparent\" points=\"25.5,-149.5 25.5,-168.5 137.5,-168.5 137.5,-149.5 25.5,-149.5\"/>\n",
       "<polygon fill=\"none\" stroke=\"black\" stroke-dasharray=\"5,2\" points=\"25.5,-149.5 25.5,-168.5 137.5,-168.5 137.5,-149.5 25.5,-149.5\"/>\n",
       "<text text-anchor=\"start\" x=\"29.5\" y=\"-157.5\" font-family=\"Courier,monospace\" font-size=\"8.00\">Partial:</text>\n",
       "<text text-anchor=\"start\" x=\"66.5\" y=\"-157.5\" font-family=\"Courier,monospace\" font-size=\"10.00\"> add_object</text>\n",
       "<polygon fill=\"#eeeeee\" stroke=\"transparent\" stroke-dasharray=\"5,2\" points=\"25.5,-130.5 25.5,-149.5 92.5,-149.5 92.5,-130.5 25.5,-130.5\"/>\n",
       "<polygon fill=\"none\" stroke=\"black\" points=\"25.5,-130.5 25.5,-149.5 92.5,-149.5 92.5,-130.5 25.5,-130.5\"/>\n",
       "<text text-anchor=\"start\" x=\"57.5\" y=\"-137.5\" font-family=\"Courier,monospace\" font-size=\"10.00\">obj_1</text>\n",
       "<polygon fill=\"none\" stroke=\"black\" points=\"92.5,-130.5 92.5,-149.5 137.5,-149.5 137.5,-130.5 92.5,-130.5\"/>\n",
       "<polygon fill=\"#90ee90\" stroke=\"transparent\" points=\"96.5,-134.5 96.5,-145.5 133.5,-145.5 133.5,-134.5 96.5,-134.5\"/>\n",
       "<polygon fill=\"none\" stroke=\"black\" points=\"96.5,-134.5 96.5,-145.5 133.5,-145.5 133.5,-134.5 96.5,-134.5\"/>\n",
       "<polygon fill=\"#eeeeee\" stroke=\"transparent\" points=\"25.5,-111.5 25.5,-130.5 92.5,-130.5 92.5,-111.5 25.5,-111.5\"/>\n",
       "<polygon fill=\"none\" stroke=\"black\" points=\"25.5,-111.5 25.5,-130.5 92.5,-130.5 92.5,-111.5 25.5,-111.5\"/>\n",
       "<text text-anchor=\"start\" x=\"57.5\" y=\"-118.5\" font-family=\"Courier,monospace\" font-size=\"10.00\">obj_2</text>\n",
       "<polygon fill=\"none\" stroke=\"black\" points=\"92.5,-111.5 92.5,-130.5 137.5,-130.5 137.5,-111.5 92.5,-111.5\"/>\n",
       "<polygon fill=\"#fff8dc\" stroke=\"transparent\" points=\"96.5,-115.5 96.5,-126.5 133.5,-126.5 133.5,-115.5 96.5,-115.5\"/>\n",
       "<polygon fill=\"none\" stroke=\"black\" points=\"96.5,-115.5 96.5,-126.5 133.5,-126.5 133.5,-115.5 96.5,-115.5\"/>\n",
       "</g>\n",
       "<!-- 0&#45;&#45;1 -->\n",
       "<g id=\"edge1\" class=\"edge\">\n",
       "<title>0:c&#45;&#45;1:c</title>\n",
       "<path fill=\"none\" stroke=\"#73be73\" stroke-width=\"3\" stroke-opacity=\"0.501961\" d=\"M112.84,-134.22C106.62,-124.26 90.66,-98.63 76.85,-76.47\"/>\n",
       "</g>\n",
       "<!-- 2 -->\n",
       "<g id=\"node3\" class=\"node\">\n",
       "<title>2</title>\n",
       "<polygon fill=\"#fff8dc\" stroke=\"transparent\" points=\"125.5,-57 125.5,-76 232.5,-76 232.5,-57 125.5,-57\"/>\n",
       "<polygon fill=\"none\" stroke=\"black\" points=\"125.5,-57 125.5,-76 232.5,-76 232.5,-57 125.5,-57\"/>\n",
       "<text text-anchor=\"start\" x=\"129.5\" y=\"-65\" font-family=\"Courier,monospace\" font-size=\"8.00\">Config:</text>\n",
       "<text text-anchor=\"start\" x=\"161.5\" y=\"-65\" font-family=\"Courier,monospace\" font-size=\"10.00\"> SomeObject</text>\n",
       "<polygon fill=\"#eeeeee\" stroke=\"transparent\" points=\"125.5,-38 125.5,-57 193.5,-57 193.5,-38 125.5,-38\"/>\n",
       "<polygon fill=\"none\" stroke=\"black\" points=\"125.5,-38 125.5,-57 193.5,-57 193.5,-38 125.5,-38\"/>\n",
       "<text text-anchor=\"start\" x=\"146.5\" y=\"-45\" font-family=\"Courier,monospace\" font-size=\"10.00\">value_1</text>\n",
       "<polygon fill=\"none\" stroke=\"black\" points=\"193.5,-38 193.5,-57 232.5,-57 232.5,-38 193.5,-38\"/>\n",
       "<text text-anchor=\"start\" x=\"197.5\" y=\"-45\" font-family=\"Courier,monospace\" font-size=\"10.00\">10</text>\n",
       "<polygon fill=\"#eeeeee\" stroke=\"transparent\" points=\"125.5,-19 125.5,-38 193.5,-38 193.5,-19 125.5,-19\"/>\n",
       "<polygon fill=\"none\" stroke=\"black\" points=\"125.5,-19 125.5,-38 193.5,-38 193.5,-19 125.5,-19\"/>\n",
       "<text text-anchor=\"start\" x=\"146.5\" y=\"-26\" font-family=\"Courier,monospace\" font-size=\"10.00\">value_2</text>\n",
       "<polygon fill=\"none\" stroke=\"black\" points=\"193.5,-19 193.5,-38 232.5,-38 232.5,-19 193.5,-19\"/>\n",
       "<text text-anchor=\"start\" x=\"197.5\" y=\"-26\" font-family=\"Courier,monospace\" font-size=\"10.00\">20</text>\n",
       "<polygon fill=\"#eeeeee\" stroke=\"transparent\" points=\"125.5,0 125.5,-19 193.5,-19 193.5,0 125.5,0\"/>\n",
       "<polygon fill=\"none\" stroke=\"black\" points=\"125.5,0 125.5,-19 193.5,-19 193.5,0 125.5,0\"/>\n",
       "<text text-anchor=\"start\" x=\"146.5\" y=\"-7\" font-family=\"Courier,monospace\" font-size=\"10.00\">value_3</text>\n",
       "<polygon fill=\"none\" stroke=\"black\" points=\"193.5,0 193.5,-19 232.5,-19 232.5,0 193.5,0\"/>\n",
       "<text text-anchor=\"start\" x=\"197.5\" y=\"-7\" font-family=\"Courier,monospace\" font-size=\"10.00\">30</text>\n",
       "</g>\n",
       "<!-- 0&#45;&#45;2 -->\n",
       "<g id=\"edge2\" class=\"edge\">\n",
       "<title>0:c&#45;&#45;2:c</title>\n",
       "<path fill=\"none\" stroke=\"#cbc6b0\" stroke-width=\"3\" stroke-opacity=\"0.501961\" d=\"M118.89,-115.17C124.77,-107.66 137.39,-91.53 149.52,-76.03\"/>\n",
       "</g>\n",
       "</g>\n",
       "</svg>\n"
      ],
      "text/plain": [
       "<Partial[add_object(\n",
       "  obj_1=<Config[SomeObject(value_1=5, value_2=10, value_3=15)]>,\n",
       "  obj_2=<Config[SomeObject(value_1=10, value_2=20, value_3=30)]>)]>"
      ]
     },
     "execution_count": 5,
     "metadata": {},
     "output_type": "execute_result"
    }
   ],
   "source": [
    "fn = run.Partial(\n",
    "    add_object,\n",
    "    obj_1=commonly_used_object(),\n",
    "    obj_2=run.Config(SomeObject, value_1=10, value_2=20, value_3=30)\n",
    ")\n",
    "fn"
   ]
  },
  {
   "cell_type": "markdown",
   "metadata": {},
   "source": [
    "### 2. Execution\n",
    "\n",
    "The above section conclues the core features of NeMo Run's configuration side. Now let's move on to execution. The core building block to execute a single function is `run.run`.\n",
    "\n",
    "The easiest way to execute a configured function is to execute it directly, just like you would execute a normal python function. You can do this using the `direct` option in `run.run` as shown below:\n",
    "```python\n",
    "# You can also do a dryrun to see what's getting executed where.\n",
    "run.run(fn, direct=True, dryrun=True)\n",
    "run.run(fn, direct=True)\n",
    "```\n",
    "\n",
    "> 📝 As of now, the `run` function doesn't recreate the return value, so it is the user's responsibility to manage the artifacts from the function. For example, if you are launching a function to train an ML model, make sure you configure a job directory which you can access and later go and inspect. We are working on improving the management capabilities of a run and open to feedback, so please reach out to us if you have any ideas.\n",
    "\n",
    "Try it out in the cell below."
   ]
  },
  {
   "cell_type": "code",
   "execution_count": 6,
   "metadata": {},
   "outputs": [
    {
     "data": {
      "text/html": [
       "<pre style=\"white-space:pre;overflow-x:auto;line-height:normal;font-family:Menlo,'DejaVu Sans Mono',consolas,'Courier New',monospace\"><span style=\"color: #008080; text-decoration-color: #008080; font-weight: bold\">Dry run for task simple.add:add_object</span>\n",
       "</pre>\n"
      ],
      "text/plain": [
       "\u001b[1;36mDry run for task simple.\u001b[0m\u001b[1;36madd:add\u001b[0m\u001b[1;36m_object\u001b[0m\n"
      ]
     },
     "metadata": {},
     "output_type": "display_data"
    },
    {
     "data": {
      "text/html": [
       "<pre style=\"white-space:pre;overflow-x:auto;line-height:normal;font-family:Menlo,'DejaVu Sans Mono',consolas,'Courier New',monospace\"><span style=\"color: #008000; text-decoration-color: #008000; font-weight: bold\">Resolved Arguments</span>\n",
       "</pre>\n"
      ],
      "text/plain": [
       "\u001b[1;32mResolved Arguments\u001b[0m\n"
      ]
     },
     "metadata": {},
     "output_type": "display_data"
    },
    {
     "data": {
      "text/html": [
       "<pre style=\"white-space:pre;overflow-x:auto;line-height:normal;font-family:Menlo,'DejaVu Sans Mono',consolas,'Courier New',monospace\">┏━━━━━━━━━━━━━━━━━━━━━━┳━━━━━━━━━━━━━━━━━━━━━━━━━━━━━━━━━━━━━━━━━━━━━━━━━━━━━━━━━━━━━━┓\n",
       "┃<span style=\"color: #800080; text-decoration-color: #800080; font-weight: bold\"> Argument Name        </span>┃<span style=\"color: #800080; text-decoration-color: #800080; font-weight: bold\"> Resolved Value                                               </span>┃\n",
       "┡━━━━━━━━━━━━━━━━━━━━━━╇━━━━━━━━━━━━━━━━━━━━━━━━━━━━━━━━━━━━━━━━━━━━━━━━━━━━━━━━━━━━━━┩\n",
       "│<span style=\"color: #7f7f7f; text-decoration-color: #7f7f7f\"> obj_1                </span>│ <span style=\"color: #800080; text-decoration-color: #800080; font-weight: bold\">SomeObject</span><span style=\"font-weight: bold\">(</span><span style=\"color: #808000; text-decoration-color: #808000\">value_1</span>=<span style=\"color: #008080; text-decoration-color: #008080; font-weight: bold\">5</span>, <span style=\"color: #808000; text-decoration-color: #808000\">value_2</span>=<span style=\"color: #008080; text-decoration-color: #008080; font-weight: bold\">10</span>, <span style=\"color: #808000; text-decoration-color: #808000\">value_3</span>=<span style=\"color: #008080; text-decoration-color: #008080; font-weight: bold\">15</span><span style=\"font-weight: bold\">)</span>                │\n",
       "│<span style=\"color: #7f7f7f; text-decoration-color: #7f7f7f\"> obj_2                </span>│ <span style=\"color: #800080; text-decoration-color: #800080; font-weight: bold\">SomeObject</span><span style=\"font-weight: bold\">(</span><span style=\"color: #808000; text-decoration-color: #808000\">value_1</span>=<span style=\"color: #008080; text-decoration-color: #008080; font-weight: bold\">10</span>, <span style=\"color: #808000; text-decoration-color: #808000\">value_2</span>=<span style=\"color: #008080; text-decoration-color: #008080; font-weight: bold\">20</span>, <span style=\"color: #808000; text-decoration-color: #808000\">value_3</span>=<span style=\"color: #008080; text-decoration-color: #008080; font-weight: bold\">30</span><span style=\"font-weight: bold\">)</span>               │\n",
       "└──────────────────────┴──────────────────────────────────────────────────────────────┘\n",
       "</pre>\n"
      ],
      "text/plain": [
       "┏━━━━━━━━━━━━━━━━━━━━━━┳━━━━━━━━━━━━━━━━━━━━━━━━━━━━━━━━━━━━━━━━━━━━━━━━━━━━━━━━━━━━━━┓\n",
       "┃\u001b[1;35m \u001b[0m\u001b[1;35mArgument Name       \u001b[0m\u001b[1;35m \u001b[0m┃\u001b[1;35m \u001b[0m\u001b[1;35mResolved Value                                              \u001b[0m\u001b[1;35m \u001b[0m┃\n",
       "┡━━━━━━━━━━━━━━━━━━━━━━╇━━━━━━━━━━━━━━━━━━━━━━━━━━━━━━━━━━━━━━━━━━━━━━━━━━━━━━━━━━━━━━┩\n",
       "│\u001b[2m \u001b[0m\u001b[2mobj_1               \u001b[0m\u001b[2m \u001b[0m│ \u001b[1;35mSomeObject\u001b[0m\u001b[1m(\u001b[0m\u001b[33mvalue_1\u001b[0m=\u001b[1;36m5\u001b[0m, \u001b[33mvalue_2\u001b[0m=\u001b[1;36m10\u001b[0m, \u001b[33mvalue_3\u001b[0m=\u001b[1;36m15\u001b[0m\u001b[1m)\u001b[0m                │\n",
       "│\u001b[2m \u001b[0m\u001b[2mobj_2               \u001b[0m\u001b[2m \u001b[0m│ \u001b[1;35mSomeObject\u001b[0m\u001b[1m(\u001b[0m\u001b[33mvalue_1\u001b[0m=\u001b[1;36m10\u001b[0m, \u001b[33mvalue_2\u001b[0m=\u001b[1;36m20\u001b[0m, \u001b[33mvalue_3\u001b[0m=\u001b[1;36m30\u001b[0m\u001b[1m)\u001b[0m               │\n",
       "└──────────────────────┴──────────────────────────────────────────────────────────────┘\n"
      ]
     },
     "metadata": {},
     "output_type": "display_data"
    },
    {
     "name": "stdout",
     "output_type": "stream",
     "text": [
      "result = SomeObject(value_1=15, value_2=30, value_3=45)\n"
     ]
    }
   ],
   "source": [
    "# You can also do a dryrun to see what's getting executed where.\n",
    "run.run(fn, direct=True, dryrun=True)\n",
    "run.run(fn, direct=True)"
   ]
  },
  {
   "cell_type": "markdown",
   "metadata": {},
   "source": [
    "Direct run is not that interesting, since you wouldn't have to use `run` if you were only running the function directly. On top of direct runs, we support a couple of executors out of the box:\n",
    "1. Local executor: This will run the function locally but in a separate process. Useful when you are using components like `torchrun` to launch your job/run.\n",
    "2. Slurm executor: This will run the function on a remote Slurm cluster. Currently, only Slurm clusters that have [Pyxis](https://github.com/NVIDIA/pyxis) are supported, but we plan to add support for all kinds of slurm clusters. Reach out to us if you have a specific request.\n",
    "3. Skypilot executor: This will run the function on any cloud supported via [Skypilot](https://skypilot.readthedocs.io/en/latest/).\n",
    "\n",
    "To learn more about executors, go to the execution guide linked in [README](../../README.md).\n",
    "\n",
    "> 📝 Currently, we do not pickle the function but rely on python module references for serializing the configured function. This means that executing a function defined in this notebook (or in the same script calling `run.run`) will probably not work. During packaging, we currently use `git archive` for our remote slurm executor and you can specify a subpath which will be set as the working directory for the execution. So for example, to execute `add_object` function, you will provide a subpath of `examples/hello-world` assuming `examples` is at the root of the repository. This will ensure that during remote execution, imports of the style `from simple.add import add_object` work properly. We are looking to improve this user experience and open to suggestions, so please reach out to us if you have any ideas. We will also look to add `cloudpickle` support for arbitrarily defined functions.\n",
    "\n",
    "\n",
    "Under the hood, we are using [TorchX](https://pytorch.org/torchx/latest/) to manage the execution. But this is fairly abstracted away from the user and we can potentially support more standlone executor libraries or add custom schedulers for TorchX in the future.\n",
    "\n",
    "Let's see the local executor in action. The local executor is the simplest executor we have, and can be intialized without any arguments. Once we have an instance of `run.LocalExecutor`, we can pass it to `run.run` to execute the same configured function on the local executor, which will run the function in a separate process. This is the ease of use provided by NeMo Run. You can configure a function once, and execute it on any supported remote cluster seamlessly. Later, we will also explore `run.Experiment` which allows you to combine and manage multiple runs; giving additional flexibility to the user.\n",
    "\n",
    "Execute the cells below to run your function on the local executor."
   ]
  },
  {
   "cell_type": "code",
   "execution_count": 9,
   "metadata": {},
   "outputs": [
    {
     "data": {
      "image/svg+xml": [
       "<?xml version=\"1.0\" encoding=\"UTF-8\" standalone=\"no\"?>\n",
       "<!DOCTYPE svg PUBLIC \"-//W3C//DTD SVG 1.1//EN\"\n",
       " \"http://www.w3.org/Graphics/SVG/1.1/DTD/svg11.dtd\">\n",
       "<!-- Generated by graphviz version 2.43.0 (0)\n",
       " -->\n",
       "<!-- Title: %3 Pages: 1 -->\n",
       "<svg width=\"176pt\" height=\"242pt\"\n",
       " viewBox=\"0.00 0.00 176.00 242.00\" xmlns=\"http://www.w3.org/2000/svg\" xmlns:xlink=\"http://www.w3.org/1999/xlink\">\n",
       "<g id=\"graph0\" class=\"graph\" transform=\"scale(1 1) rotate(0) translate(4 238)\">\n",
       "<title>%3</title>\n",
       "<polygon fill=\"white\" stroke=\"transparent\" points=\"-4,4 -4,-238 172,-238 172,4 -4,4\"/>\n",
       "<!-- 1 -->\n",
       "<g id=\"node1\" class=\"node\">\n",
       "<title>1</title>\n",
       "<polygon fill=\"#90ee90\" stroke=\"transparent\" points=\"73.5,-19 73.5,-38 168.5,-38 168.5,-19 73.5,-19\"/>\n",
       "<polygon fill=\"none\" stroke=\"black\" points=\"73.5,-19 73.5,-38 168.5,-38 168.5,-19 73.5,-19\"/>\n",
       "<text text-anchor=\"start\" x=\"77.5\" y=\"-27\" font-family=\"Courier,monospace\" font-size=\"8.00\">Config:</text>\n",
       "<text text-anchor=\"start\" x=\"109.5\" y=\"-27\" font-family=\"Courier,monospace\" font-size=\"10.00\"> Packager</text>\n",
       "<polygon fill=\"#eeeeee\" stroke=\"transparent\" points=\"73.5,0 73.5,-19 120.5,-19 120.5,0 73.5,0\"/>\n",
       "<polygon fill=\"none\" stroke=\"black\" points=\"73.5,0 73.5,-19 120.5,-19 120.5,0 73.5,0\"/>\n",
       "<text text-anchor=\"start\" x=\"85.5\" y=\"-7\" font-family=\"Courier,monospace\" font-size=\"10.00\">debug</text>\n",
       "<polygon fill=\"none\" stroke=\"black\" points=\"120.5,0 120.5,-19 168.5,-19 168.5,0 120.5,0\"/>\n",
       "<text text-anchor=\"start\" x=\"124.5\" y=\"-7\" font-family=\"Courier,monospace\" font-size=\"10.00\">False</text>\n",
       "</g>\n",
       "<!-- 0 -->\n",
       "<g id=\"node2\" class=\"node\">\n",
       "<title>0</title>\n",
       "<polygon fill=\"#ffc0cb\" stroke=\"transparent\" points=\"0.5,-215 0.5,-234 141.5,-234 141.5,-215 0.5,-215\"/>\n",
       "<polygon fill=\"none\" stroke=\"black\" points=\"0.5,-215 0.5,-234 141.5,-234 141.5,-215 0.5,-215\"/>\n",
       "<text text-anchor=\"start\" x=\"12.5\" y=\"-223\" font-family=\"Courier,monospace\" font-size=\"8.00\">Config:</text>\n",
       "<text text-anchor=\"start\" x=\"44.5\" y=\"-223\" font-family=\"Courier,monospace\" font-size=\"10.00\"> LocalExecutor</text>\n",
       "<polygon fill=\"#eeeeee\" stroke=\"transparent\" points=\"0.5,-196 0.5,-215 99.5,-215 99.5,-196 0.5,-196\"/>\n",
       "<polygon fill=\"none\" stroke=\"black\" points=\"0.5,-196 0.5,-215 99.5,-215 99.5,-196 0.5,-196\"/>\n",
       "<text text-anchor=\"start\" x=\"46.5\" y=\"-203\" font-family=\"Courier,monospace\" font-size=\"10.00\">packager</text>\n",
       "<polygon fill=\"none\" stroke=\"black\" points=\"99.5,-196 99.5,-215 141.5,-215 141.5,-196 99.5,-196\"/>\n",
       "<polygon fill=\"#90ee90\" stroke=\"transparent\" points=\"103.5,-200 103.5,-211 137.5,-211 137.5,-200 103.5,-200\"/>\n",
       "<polygon fill=\"none\" stroke=\"black\" points=\"103.5,-200 103.5,-211 137.5,-211 137.5,-200 103.5,-200\"/>\n",
       "<polygon fill=\"#eeeeee\" stroke=\"transparent\" points=\"0.5,-177 0.5,-196 99.5,-196 99.5,-177 0.5,-177\"/>\n",
       "<polygon fill=\"none\" stroke=\"black\" points=\"0.5,-177 0.5,-196 99.5,-196 99.5,-177 0.5,-177\"/>\n",
       "<text text-anchor=\"start\" x=\"46.5\" y=\"-184\" font-family=\"Courier,monospace\" font-size=\"10.00\">launcher</text>\n",
       "<polygon fill=\"none\" stroke=\"black\" points=\"99.5,-177 99.5,-196 141.5,-196 141.5,-177 99.5,-177\"/>\n",
       "<text text-anchor=\"start\" x=\"103.5\" y=\"-184\" font-family=\"Courier,monospace\" font-size=\"10.00\">None</text>\n",
       "<polygon fill=\"#eeeeee\" stroke=\"transparent\" points=\"0.5,-150 0.5,-177 99.5,-177 99.5,-150 0.5,-150\"/>\n",
       "<polygon fill=\"none\" stroke=\"black\" points=\"0.5,-150 0.5,-177 99.5,-177 99.5,-150 0.5,-150\"/>\n",
       "<text text-anchor=\"start\" x=\"46.5\" y=\"-161\" font-family=\"Courier,monospace\" font-size=\"10.00\">env_vars</text>\n",
       "<polygon fill=\"none\" stroke=\"black\" points=\"99.5,-150 99.5,-177 141.5,-177 141.5,-150 99.5,-150\"/>\n",
       "<polygon fill=\"#eeeeee\" stroke=\"transparent\" points=\"103.5,-154 103.5,-173 137.5,-173 137.5,-154 103.5,-154\"/>\n",
       "<polygon fill=\"none\" stroke=\"black\" points=\"103.5,-154 103.5,-173 137.5,-173 137.5,-154 103.5,-154\"/>\n",
       "<text text-anchor=\"start\" x=\"108\" y=\"-161\" font-family=\"Courier,monospace\" font-size=\"10.00\">dict</text>\n",
       "<polygon fill=\"#eeeeee\" stroke=\"transparent\" points=\"0.5,-131 0.5,-150 99.5,-150 99.5,-131 0.5,-131\"/>\n",
       "<polygon fill=\"none\" stroke=\"black\" points=\"0.5,-131 0.5,-150 99.5,-150 99.5,-131 0.5,-131\"/>\n",
       "<text text-anchor=\"start\" x=\"52.5\" y=\"-138\" font-family=\"Courier,monospace\" font-size=\"10.00\">retries</text>\n",
       "<polygon fill=\"none\" stroke=\"black\" points=\"99.5,-131 99.5,-150 141.5,-150 141.5,-131 99.5,-131\"/>\n",
       "<text text-anchor=\"start\" x=\"103.5\" y=\"-138\" font-family=\"Courier,monospace\" font-size=\"10.00\">0</text>\n",
       "<polygon fill=\"#eeeeee\" stroke=\"transparent\" points=\"0.5,-112 0.5,-131 99.5,-131 99.5,-112 0.5,-112\"/>\n",
       "<polygon fill=\"none\" stroke=\"black\" points=\"0.5,-112 0.5,-131 99.5,-131 99.5,-112 0.5,-112\"/>\n",
       "<text text-anchor=\"start\" x=\"16.5\" y=\"-119\" font-family=\"Courier,monospace\" font-size=\"10.00\">experiment_id</text>\n",
       "<polygon fill=\"none\" stroke=\"black\" points=\"99.5,-112 99.5,-131 141.5,-131 141.5,-112 99.5,-112\"/>\n",
       "<text text-anchor=\"start\" x=\"103.5\" y=\"-119\" font-family=\"Courier,monospace\" font-size=\"10.00\">None</text>\n",
       "<polygon fill=\"#eeeeee\" stroke=\"transparent\" points=\"0.5,-93 0.5,-112 99.5,-112 99.5,-93 0.5,-93\"/>\n",
       "<polygon fill=\"none\" stroke=\"black\" points=\"0.5,-93 0.5,-112 99.5,-112 99.5,-93 0.5,-93\"/>\n",
       "<text text-anchor=\"start\" x=\"52.5\" y=\"-100\" font-family=\"Courier,monospace\" font-size=\"10.00\">job_dir</text>\n",
       "<polygon fill=\"none\" stroke=\"black\" points=\"99.5,-93 99.5,-112 141.5,-112 141.5,-93 99.5,-93\"/>\n",
       "<text text-anchor=\"start\" x=\"103.5\" y=\"-100\" font-family=\"Courier,monospace\" font-size=\"10.00\">&#39;&#39;</text>\n",
       "<polygon fill=\"#eeeeee\" stroke=\"transparent\" points=\"0.5,-74 0.5,-93 99.5,-93 99.5,-74 0.5,-74\"/>\n",
       "<polygon fill=\"none\" stroke=\"black\" points=\"0.5,-74 0.5,-93 99.5,-93 99.5,-74 0.5,-74\"/>\n",
       "<text text-anchor=\"start\" x=\"4.5\" y=\"-81\" font-family=\"Courier,monospace\" font-size=\"10.00\">ntasks_per_node</text>\n",
       "<polygon fill=\"none\" stroke=\"black\" points=\"99.5,-74 99.5,-93 141.5,-93 141.5,-74 99.5,-74\"/>\n",
       "<text text-anchor=\"start\" x=\"103.5\" y=\"-81\" font-family=\"Courier,monospace\" font-size=\"10.00\">1</text>\n",
       "</g>\n",
       "<!-- 0&#45;&#45;1 -->\n",
       "<g id=\"edge1\" class=\"edge\">\n",
       "<title>0:c&#45;&#45;1:c</title>\n",
       "<path fill=\"none\" stroke=\"#73be73\" stroke-width=\"3\" stroke-opacity=\"0.501961\" d=\"M120.5,-199.66C120.5,-175.85 120.5,-78.67 120.5,-38.02\"/>\n",
       "</g>\n",
       "</g>\n",
       "</svg>\n"
      ],
      "text/plain": [
       "LocalExecutor(packager=Packager(debug=False), launcher=None, env_vars={}, retries=0, experiment_id=None, job_dir='', experiment_dir='', _launcher_setup=False, ntasks_per_node=1)"
      ]
     },
     "execution_count": 9,
     "metadata": {},
     "output_type": "execute_result"
    }
   ],
   "source": [
    "executor = run.LocalExecutor()\n",
    "executor"
   ]
  },
  {
   "cell_type": "code",
   "execution_count": 10,
   "metadata": {},
   "outputs": [
    {
     "data": {
      "text/html": [
       "<pre style=\"white-space:pre;overflow-x:auto;line-height:normal;font-family:Menlo,'DejaVu Sans Mono',consolas,'Courier New',monospace\"><span style=\"color: #00ff00; text-decoration-color: #00ff00\">─────────────── </span><span style=\"color: #800080; text-decoration-color: #800080; font-weight: bold\">Entering Experiment simple.add.add_object with id: simple.add.add_object_1723699155</span><span style=\"color: #00ff00; text-decoration-color: #00ff00\"> ───────────────</span>\n",
       "</pre>\n"
      ],
      "text/plain": [
       "\u001b[92m─────────────── \u001b[0m\u001b[1;35mEntering Experiment simple.add.add_object with id: simple.add.add_object_1723699155\u001b[0m\u001b[92m ───────────────\u001b[0m\n"
      ]
     },
     "metadata": {},
     "output_type": "display_data"
    },
    {
     "data": {
      "text/html": [
       "<pre style=\"white-space:pre;overflow-x:auto;line-height:normal;font-family:Menlo,'DejaVu Sans Mono',consolas,'Courier New',monospace\"><span style=\"color: #7fbfbf; text-decoration-color: #7fbfbf\">[22:19:15] </span><span style=\"color: #008080; text-decoration-color: #008080; font-weight: bold\">Launching task simple.add.add_object for experiment simple.add.add_object</span>              <a href=\"file:///home/hemild/dev/nemo-sdk/src/nemo_run/run/experiment.py\" target=\"_blank\"><span style=\"color: #7f7f7f; text-decoration-color: #7f7f7f\">experiment.py</span></a><span style=\"color: #7f7f7f; text-decoration-color: #7f7f7f\">:</span><a href=\"file:///home/hemild/dev/nemo-sdk/src/nemo_run/run/experiment.py#577\" target=\"_blank\"><span style=\"color: #7f7f7f; text-decoration-color: #7f7f7f\">577</span></a>\n",
       "</pre>\n"
      ],
      "text/plain": [
       "\u001b[2;36m[22:19:15]\u001b[0m\u001b[2;36m \u001b[0m\u001b[1;36mLaunching task simple.add.add_object for experiment simple.add.add_object\u001b[0m              \u001b]8;id=730699;file:///home/hemild/dev/nemo-sdk/src/nemo_run/run/experiment.py\u001b\\\u001b[2mexperiment.py\u001b[0m\u001b]8;;\u001b\\\u001b[2m:\u001b[0m\u001b]8;id=838648;file:///home/hemild/dev/nemo-sdk/src/nemo_run/run/experiment.py#577\u001b\\\u001b[2m577\u001b[0m\u001b]8;;\u001b\\\n"
      ]
     },
     "metadata": {},
     "output_type": "display_data"
    },
    {
     "name": "stderr",
     "output_type": "stream",
     "text": [
      "Log directory is: /home/hemild/.nemo_run/experiments/simple.add.add_object/simple.add.add_object_1723699155/simple.add.add_object\n",
      "Launched app: local_persistent://nemo_run/simple.add.add_object-rmf4rzw4nw5v4\n",
      "AppStatus:\n",
      "    State: RUNNING\n",
      "    Num Restarts: 0\n",
      "    Roles: \n",
      "    Msg: <NONE>\n",
      "    Structured Error Msg: <NONE>\n",
      "    UI URL: file:///home/hemild/.nemo_run/experiments/simple.add.add_object/simple.add.add_object_1723699155/simple.add.add_object/nemo_run/simple.add.add_object-rmf4rzw4nw5v4\n",
      "    \n"
     ]
    },
    {
     "data": {
      "text/html": [
       "<pre style=\"white-space:pre;overflow-x:auto;line-height:normal;font-family:Menlo,'DejaVu Sans Mono',consolas,'Courier New',monospace\"><span style=\"color: #00ff00; text-decoration-color: #00ff00\">──────────────────────── </span><span style=\"color: #800080; text-decoration-color: #800080; font-weight: bold\">Waiting for Experiment simple.add.add_object_1723699155 to finish</span><span style=\"color: #00ff00; text-decoration-color: #00ff00\"> ────────────────────────</span>\n",
       "</pre>\n"
      ],
      "text/plain": [
       "\u001b[92m──────────────────────── \u001b[0m\u001b[1;35mWaiting for Experiment simple.add.add_object_1723699155 to finish\u001b[0m\u001b[92m ────────────────────────\u001b[0m\n"
      ]
     },
     "metadata": {},
     "output_type": "display_data"
    },
    {
     "data": {
      "text/html": [
       "<pre style=\"white-space:pre;overflow-x:auto;line-height:normal;font-family:Menlo,'DejaVu Sans Mono',consolas,'Courier New',monospace\">\n",
       "</pre>\n"
      ],
      "text/plain": [
       "\n"
      ]
     },
     "metadata": {},
     "output_type": "display_data"
    },
    {
     "data": {
      "text/html": [
       "<pre style=\"white-space:pre;overflow-x:auto;line-height:normal;font-family:Menlo,'DejaVu Sans Mono',consolas,'Courier New',monospace\"><span style=\"color: #008000; text-decoration-color: #008000; font-weight: bold\">Experiment Status for</span> <span style=\"color: #ffaf00; text-decoration-color: #ffaf00; font-weight: bold\">simple.add.add_object_1723699155</span>\n",
       "</pre>\n"
      ],
      "text/plain": [
       "\u001b[1;32mExperiment Status for\u001b[0m \u001b[1;38;5;214msimple.add.add_object_1723699155\u001b[0m\n"
      ]
     },
     "metadata": {},
     "output_type": "display_data"
    },
    {
     "data": {
      "text/html": [
       "<pre style=\"white-space:pre;overflow-x:auto;line-height:normal;font-family:Menlo,'DejaVu Sans Mono',consolas,'Courier New',monospace\">\n",
       "<span style=\"color: #008000; text-decoration-color: #008000; font-weight: bold\">Task 0</span>: <span style=\"color: #ffaf00; text-decoration-color: #ffaf00; font-weight: bold\">simple.add.add_object</span>\n",
       "- <span style=\"color: #008000; text-decoration-color: #008000; font-weight: bold\">Status</span>: RUNNING\n",
       "- <span style=\"color: #008000; text-decoration-color: #008000; font-weight: bold\">Executor</span>: LocalExecutor\n",
       "- <span style=\"color: #008000; text-decoration-color: #008000; font-weight: bold\">Job id</span>: simple.add.add_object-rmf4rzw4nw5v4\n",
       "- <span style=\"color: #008000; text-decoration-color: #008000; font-weight: bold\">Local Directory</span>: /home/hemild/.nemo_run/experiments/simple.add.add_object/simple.add.add_object_1723699155/simple.add.add_object\n",
       "</pre>\n"
      ],
      "text/plain": [
       "\n",
       "\u001b[1;32mTask 0\u001b[0m: \u001b[1;38;5;214msimple.add.add_object\u001b[0m\n",
       "- \u001b[1;32mStatus\u001b[0m: RUNNING\n",
       "- \u001b[1;32mExecutor\u001b[0m: LocalExecutor\n",
       "- \u001b[1;32mJob id\u001b[0m: simple.add.add_object-rmf4rzw4nw5v4\n",
       "- \u001b[1;32mLocal Directory\u001b[0m: /home/hemild/.nemo_run/experiments/simple.add.add_object/simple.add.add_object_1723699155/simple.add.add_object\n"
      ]
     },
     "metadata": {},
     "output_type": "display_data"
    },
    {
     "data": {
      "text/html": [
       "<pre style=\"white-space:pre;overflow-x:auto;line-height:normal;font-family:Menlo,'DejaVu Sans Mono',consolas,'Courier New',monospace\">\n",
       "</pre>\n"
      ],
      "text/plain": [
       "\n"
      ]
     },
     "metadata": {},
     "output_type": "display_data"
    },
    {
     "name": "stderr",
     "output_type": "stream",
     "text": [
      "Waiting for the app to finish [log=True]...\n"
     ]
    },
    {
     "name": "stdout",
     "output_type": "stream",
     "text": [
      "simple.add.add_object/0 result = SomeObject(value_1=15, value_2=30, value_3=45)\n"
     ]
    },
    {
     "name": "stderr",
     "output_type": "stream",
     "text": [
      "Job finished: SUCCEEDED\n",
      "AppStatus:\n",
      "  msg: <NONE>\n",
      "  num_restarts: 0\n",
      "  roles: []\n",
      "  state: SUCCEEDED (4)\n",
      "  structured_error_msg: <NONE>\n",
      "  ui_url: file:///home/hemild/.nemo_run/experiments/simple.add.add_object/simple.add.add_object_1723699155/simple.add.add_object/nemo_run/simple.add.add_object-rmf4rzw4nw5v4\n",
      "\n"
     ]
    },
    {
     "data": {
      "text/html": [
       "<pre style=\"white-space:pre;overflow-x:auto;line-height:normal;font-family:Menlo,'DejaVu Sans Mono',consolas,'Courier New',monospace\"><span style=\"background-color: #272822\">                                                                                                                   </span>\n",
       "<span style=\"color: #959077; text-decoration-color: #959077; background-color: #272822\"># The experiment was run with the following tasks: ['simple.add.add_object']</span><span style=\"background-color: #272822\">                                       </span>\n",
       "<span style=\"color: #959077; text-decoration-color: #959077; background-color: #272822\"># You can inspect and reconstruct this experiment at a later point in time using:</span><span style=\"background-color: #272822\">                                  </span>\n",
       "<span style=\"color: #f8f8f2; text-decoration-color: #f8f8f2; background-color: #272822\">experiment </span><span style=\"color: #ff4689; text-decoration-color: #ff4689; background-color: #272822\">=</span><span style=\"color: #f8f8f2; text-decoration-color: #f8f8f2; background-color: #272822\"> run</span><span style=\"color: #ff4689; text-decoration-color: #ff4689; background-color: #272822\">.</span><span style=\"color: #f8f8f2; text-decoration-color: #f8f8f2; background-color: #272822\">Experiment</span><span style=\"color: #ff4689; text-decoration-color: #ff4689; background-color: #272822\">.</span><span style=\"color: #f8f8f2; text-decoration-color: #f8f8f2; background-color: #272822\">from_id(</span><span style=\"color: #e6db74; text-decoration-color: #e6db74; background-color: #272822\">\"simple.add.add_object_1723699155\"</span><span style=\"color: #f8f8f2; text-decoration-color: #f8f8f2; background-color: #272822\">)</span><span style=\"background-color: #272822\">                                            </span>\n",
       "<span style=\"color: #f8f8f2; text-decoration-color: #f8f8f2; background-color: #272822\">experiment</span><span style=\"color: #ff4689; text-decoration-color: #ff4689; background-color: #272822\">.</span><span style=\"color: #f8f8f2; text-decoration-color: #f8f8f2; background-color: #272822\">status() </span><span style=\"color: #959077; text-decoration-color: #959077; background-color: #272822\"># Gets the overall status</span><span style=\"background-color: #272822\">                                                                      </span>\n",
       "<span style=\"color: #f8f8f2; text-decoration-color: #f8f8f2; background-color: #272822\">experiment</span><span style=\"color: #ff4689; text-decoration-color: #ff4689; background-color: #272822\">.</span><span style=\"color: #f8f8f2; text-decoration-color: #f8f8f2; background-color: #272822\">logs(</span><span style=\"color: #e6db74; text-decoration-color: #e6db74; background-color: #272822\">\"simple.add.add_object\"</span><span style=\"color: #f8f8f2; text-decoration-color: #f8f8f2; background-color: #272822\">) </span><span style=\"color: #959077; text-decoration-color: #959077; background-color: #272822\"># Gets the log for the provided task</span><span style=\"background-color: #272822\">                                      </span>\n",
       "<span style=\"color: #f8f8f2; text-decoration-color: #f8f8f2; background-color: #272822\">experiment</span><span style=\"color: #ff4689; text-decoration-color: #ff4689; background-color: #272822\">.</span><span style=\"color: #f8f8f2; text-decoration-color: #f8f8f2; background-color: #272822\">cancel(</span><span style=\"color: #e6db74; text-decoration-color: #e6db74; background-color: #272822\">\"simple.add.add_object\"</span><span style=\"color: #f8f8f2; text-decoration-color: #f8f8f2; background-color: #272822\">) </span><span style=\"color: #959077; text-decoration-color: #959077; background-color: #272822\"># Cancels the provided task if still running</span><span style=\"background-color: #272822\">                            </span>\n",
       "<span style=\"background-color: #272822\">                                                                                                                   </span>\n",
       "</pre>\n"
      ],
      "text/plain": [
       "\u001b[48;2;39;40;34m                                                                                                                   \u001b[0m\n",
       "\u001b[38;2;149;144;119;48;2;39;40;34m# The experiment was run with the following tasks: ['simple.add.add_object']\u001b[0m\u001b[48;2;39;40;34m                                       \u001b[0m\n",
       "\u001b[38;2;149;144;119;48;2;39;40;34m# You can inspect and reconstruct this experiment at a later point in time using:\u001b[0m\u001b[48;2;39;40;34m                                  \u001b[0m\n",
       "\u001b[38;2;248;248;242;48;2;39;40;34mexperiment\u001b[0m\u001b[38;2;248;248;242;48;2;39;40;34m \u001b[0m\u001b[38;2;255;70;137;48;2;39;40;34m=\u001b[0m\u001b[38;2;248;248;242;48;2;39;40;34m \u001b[0m\u001b[38;2;248;248;242;48;2;39;40;34mrun\u001b[0m\u001b[38;2;255;70;137;48;2;39;40;34m.\u001b[0m\u001b[38;2;248;248;242;48;2;39;40;34mExperiment\u001b[0m\u001b[38;2;255;70;137;48;2;39;40;34m.\u001b[0m\u001b[38;2;248;248;242;48;2;39;40;34mfrom_id\u001b[0m\u001b[38;2;248;248;242;48;2;39;40;34m(\u001b[0m\u001b[38;2;230;219;116;48;2;39;40;34m\"\u001b[0m\u001b[38;2;230;219;116;48;2;39;40;34msimple.add.add_object_1723699155\u001b[0m\u001b[38;2;230;219;116;48;2;39;40;34m\"\u001b[0m\u001b[38;2;248;248;242;48;2;39;40;34m)\u001b[0m\u001b[48;2;39;40;34m                                            \u001b[0m\n",
       "\u001b[38;2;248;248;242;48;2;39;40;34mexperiment\u001b[0m\u001b[38;2;255;70;137;48;2;39;40;34m.\u001b[0m\u001b[38;2;248;248;242;48;2;39;40;34mstatus\u001b[0m\u001b[38;2;248;248;242;48;2;39;40;34m(\u001b[0m\u001b[38;2;248;248;242;48;2;39;40;34m)\u001b[0m\u001b[38;2;248;248;242;48;2;39;40;34m \u001b[0m\u001b[38;2;149;144;119;48;2;39;40;34m# Gets the overall status\u001b[0m\u001b[48;2;39;40;34m                                                                      \u001b[0m\n",
       "\u001b[38;2;248;248;242;48;2;39;40;34mexperiment\u001b[0m\u001b[38;2;255;70;137;48;2;39;40;34m.\u001b[0m\u001b[38;2;248;248;242;48;2;39;40;34mlogs\u001b[0m\u001b[38;2;248;248;242;48;2;39;40;34m(\u001b[0m\u001b[38;2;230;219;116;48;2;39;40;34m\"\u001b[0m\u001b[38;2;230;219;116;48;2;39;40;34msimple.add.add_object\u001b[0m\u001b[38;2;230;219;116;48;2;39;40;34m\"\u001b[0m\u001b[38;2;248;248;242;48;2;39;40;34m)\u001b[0m\u001b[38;2;248;248;242;48;2;39;40;34m \u001b[0m\u001b[38;2;149;144;119;48;2;39;40;34m# Gets the log for the provided task\u001b[0m\u001b[48;2;39;40;34m                                      \u001b[0m\n",
       "\u001b[38;2;248;248;242;48;2;39;40;34mexperiment\u001b[0m\u001b[38;2;255;70;137;48;2;39;40;34m.\u001b[0m\u001b[38;2;248;248;242;48;2;39;40;34mcancel\u001b[0m\u001b[38;2;248;248;242;48;2;39;40;34m(\u001b[0m\u001b[38;2;230;219;116;48;2;39;40;34m\"\u001b[0m\u001b[38;2;230;219;116;48;2;39;40;34msimple.add.add_object\u001b[0m\u001b[38;2;230;219;116;48;2;39;40;34m\"\u001b[0m\u001b[38;2;248;248;242;48;2;39;40;34m)\u001b[0m\u001b[38;2;248;248;242;48;2;39;40;34m \u001b[0m\u001b[38;2;149;144;119;48;2;39;40;34m# Cancels the provided task if still running\u001b[0m\u001b[48;2;39;40;34m                            \u001b[0m\n",
       "\u001b[48;2;39;40;34m                                                                                                                   \u001b[0m\n"
      ]
     },
     "metadata": {},
     "output_type": "display_data"
    },
    {
     "data": {
      "text/html": [
       "<pre style=\"white-space:pre;overflow-x:auto;line-height:normal;font-family:Menlo,'DejaVu Sans Mono',consolas,'Courier New',monospace\"><span style=\"background-color: #272822\">                                                                                                                   </span>\n",
       "<span style=\"color: #959077; text-decoration-color: #959077; background-color: #272822\"># You can inspect this experiment at a later point in time using the CLI as well:</span><span style=\"background-color: #272822\">                                  </span>\n",
       "<span style=\"color: #f8f8f2; text-decoration-color: #f8f8f2; background-color: #272822\">nemorun experiment status simple.add.add_object_1723699155</span><span style=\"background-color: #272822\">                                                         </span>\n",
       "<span style=\"color: #f8f8f2; text-decoration-color: #f8f8f2; background-color: #272822\">nemorun experiment logs simple.add.add_object_1723699155 </span><span style=\"color: #ae81ff; text-decoration-color: #ae81ff; background-color: #272822\">0</span><span style=\"background-color: #272822\">                                                         </span>\n",
       "<span style=\"color: #f8f8f2; text-decoration-color: #f8f8f2; background-color: #272822\">nemorun experiment cancel simple.add.add_object_1723699155 </span><span style=\"color: #ae81ff; text-decoration-color: #ae81ff; background-color: #272822\">0</span><span style=\"background-color: #272822\">                                                       </span>\n",
       "<span style=\"background-color: #272822\">                                                                                                                   </span>\n",
       "</pre>\n"
      ],
      "text/plain": [
       "\u001b[48;2;39;40;34m                                                                                                                   \u001b[0m\n",
       "\u001b[38;2;149;144;119;48;2;39;40;34m# You can inspect this experiment at a later point in time using the CLI as well:\u001b[0m\u001b[48;2;39;40;34m                                  \u001b[0m\n",
       "\u001b[38;2;248;248;242;48;2;39;40;34mnemorun\u001b[0m\u001b[38;2;248;248;242;48;2;39;40;34m \u001b[0m\u001b[38;2;248;248;242;48;2;39;40;34mexperiment\u001b[0m\u001b[38;2;248;248;242;48;2;39;40;34m \u001b[0m\u001b[38;2;248;248;242;48;2;39;40;34mstatus\u001b[0m\u001b[38;2;248;248;242;48;2;39;40;34m \u001b[0m\u001b[38;2;248;248;242;48;2;39;40;34msimple.add.add_object_1723699155\u001b[0m\u001b[48;2;39;40;34m                                                         \u001b[0m\n",
       "\u001b[38;2;248;248;242;48;2;39;40;34mnemorun\u001b[0m\u001b[38;2;248;248;242;48;2;39;40;34m \u001b[0m\u001b[38;2;248;248;242;48;2;39;40;34mexperiment\u001b[0m\u001b[38;2;248;248;242;48;2;39;40;34m \u001b[0m\u001b[38;2;248;248;242;48;2;39;40;34mlogs\u001b[0m\u001b[38;2;248;248;242;48;2;39;40;34m \u001b[0m\u001b[38;2;248;248;242;48;2;39;40;34msimple.add.add_object_1723699155\u001b[0m\u001b[38;2;248;248;242;48;2;39;40;34m \u001b[0m\u001b[38;2;174;129;255;48;2;39;40;34m0\u001b[0m\u001b[48;2;39;40;34m                                                         \u001b[0m\n",
       "\u001b[38;2;248;248;242;48;2;39;40;34mnemorun\u001b[0m\u001b[38;2;248;248;242;48;2;39;40;34m \u001b[0m\u001b[38;2;248;248;242;48;2;39;40;34mexperiment\u001b[0m\u001b[38;2;248;248;242;48;2;39;40;34m \u001b[0m\u001b[38;2;248;248;242;48;2;39;40;34mcancel\u001b[0m\u001b[38;2;248;248;242;48;2;39;40;34m \u001b[0m\u001b[38;2;248;248;242;48;2;39;40;34msimple.add.add_object_1723699155\u001b[0m\u001b[38;2;248;248;242;48;2;39;40;34m \u001b[0m\u001b[38;2;174;129;255;48;2;39;40;34m0\u001b[0m\u001b[48;2;39;40;34m                                                       \u001b[0m\n",
       "\u001b[48;2;39;40;34m                                                                                                                   \u001b[0m\n"
      ]
     },
     "metadata": {},
     "output_type": "display_data"
    }
   ],
   "source": [
    "run.run(fn, executor)"
   ]
  },
  {
   "cell_type": "markdown",
   "metadata": {},
   "source": [
    "If you notice the logs, it has mentions of Experiment. Each `run.run` internally creates an experiment with a single task to provide management capabilities for a run out of the box. We also make the `run.Experiment` API available publicly to create custom experiments and workflows. Check out our next tutorial in this series named [`hello_experiments.ipynb`](hello_experiments.ipynb) to learn more about experiments."
   ]
  },
  {
   "cell_type": "markdown",
   "metadata": {},
   "source": [
    "In the same way, you can execute your configured function on a remote Slurm Cluster or remote Skypilot Cluster as well. \n",
    "\n",
    "Below, we show an example of defining a `run.SlurmExecutor`. NeMo-Run also sets up an `ssh` tunnel automatically for you to connect to the slurm cluster and handle the packaging of the code so you never have to leave your local workstation. You can configure the Slurm executor as below:\n",
    "\n",
    "```python\n",
    "tunnel_cfg = run.Config(\n",
    "    TunnelConfig,\n",
    "    host=os.environ[\"SLURM_HOST\"],\n",
    "    user=os.environ[\"SLURM_USER\"],\n",
    "    job_dir=os.environ[\"SLURM_JOBDIR\"],\n",
    ")\n",
    "packager = run.Config(\n",
    "    GitArchivePackager,\n",
    "    use_torchrun=False,\n",
    "    subpath=\"examples/hello-world\"\n",
    ")\n",
    "\n",
    "executor = run.Config(\n",
    "    SlurmExecutorConfig,\n",
    "    account=os.environ[\"SLURM_ACCT\"],\n",
    "    partition=os.environ[\"SLURM_PARTITION\"],\n",
    "    nodes=1,\n",
    "    ntasks_per_node=1,\n",
    "    tunnel=tunnel,\n",
    "    container_image=os.environ[\"BASE_IMAGE\"],\n",
    "    time=\"00:30:00\",\n",
    "    packager=packager,\n",
    ")\n",
    "```\n",
    "\n",
    "More details about configuring the executors can be found in the `API Reference` portion of our docs."
   ]
  },
  {
   "cell_type": "markdown",
   "metadata": {},
   "source": []
  }
 ],
 "metadata": {
  "kernelspec": {
   "display_name": "Python 3",
   "language": "python",
   "name": "python3"
  },
  "language_info": {
   "codemirror_mode": {
    "name": "ipython",
    "version": 3
   },
   "file_extension": ".py",
   "mimetype": "text/x-python",
   "name": "python",
   "nbconvert_exporter": "python",
   "pygments_lexer": "ipython3",
   "version": "3.11.9"
  }
 },
 "nbformat": 4,
 "nbformat_minor": 2
}
